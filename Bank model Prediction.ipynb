{
 "cells": [
  {
   "cell_type": "code",
   "execution_count": 1,
   "metadata": {},
   "outputs": [],
   "source": [
    "import numpy as np\n",
    "import matplotlib.pyplot as plt\n",
    "import pandas as pd\n",
    "import tensorflow.keras \n",
    "import sklearn"
   ]
  },
  {
   "cell_type": "code",
   "execution_count": 2,
   "metadata": {},
   "outputs": [
    {
     "data": {
      "text/html": [
       "<div>\n",
       "<style scoped>\n",
       "    .dataframe tbody tr th:only-of-type {\n",
       "        vertical-align: middle;\n",
       "    }\n",
       "\n",
       "    .dataframe tbody tr th {\n",
       "        vertical-align: top;\n",
       "    }\n",
       "\n",
       "    .dataframe thead th {\n",
       "        text-align: right;\n",
       "    }\n",
       "</style>\n",
       "<table border=\"1\" class=\"dataframe\">\n",
       "  <thead>\n",
       "    <tr style=\"text-align: right;\">\n",
       "      <th></th>\n",
       "      <th>RowNumber</th>\n",
       "      <th>CustomerId</th>\n",
       "      <th>Surname</th>\n",
       "      <th>CreditScore</th>\n",
       "      <th>Geography</th>\n",
       "      <th>Gender</th>\n",
       "      <th>Age</th>\n",
       "      <th>Tenure</th>\n",
       "      <th>Balance</th>\n",
       "      <th>NumOfProducts</th>\n",
       "      <th>HasCrCard</th>\n",
       "      <th>IsActiveMember</th>\n",
       "      <th>EstimatedSalary</th>\n",
       "      <th>Exited</th>\n",
       "    </tr>\n",
       "  </thead>\n",
       "  <tbody>\n",
       "    <tr>\n",
       "      <th>0</th>\n",
       "      <td>1</td>\n",
       "      <td>15634602</td>\n",
       "      <td>Hargrave</td>\n",
       "      <td>619</td>\n",
       "      <td>France</td>\n",
       "      <td>Female</td>\n",
       "      <td>42</td>\n",
       "      <td>2</td>\n",
       "      <td>0.00</td>\n",
       "      <td>1</td>\n",
       "      <td>1</td>\n",
       "      <td>1</td>\n",
       "      <td>101348.88</td>\n",
       "      <td>1</td>\n",
       "    </tr>\n",
       "    <tr>\n",
       "      <th>1</th>\n",
       "      <td>2</td>\n",
       "      <td>15647311</td>\n",
       "      <td>Hill</td>\n",
       "      <td>608</td>\n",
       "      <td>Spain</td>\n",
       "      <td>Female</td>\n",
       "      <td>41</td>\n",
       "      <td>1</td>\n",
       "      <td>83807.86</td>\n",
       "      <td>1</td>\n",
       "      <td>0</td>\n",
       "      <td>1</td>\n",
       "      <td>112542.58</td>\n",
       "      <td>0</td>\n",
       "    </tr>\n",
       "    <tr>\n",
       "      <th>2</th>\n",
       "      <td>3</td>\n",
       "      <td>15619304</td>\n",
       "      <td>Onio</td>\n",
       "      <td>502</td>\n",
       "      <td>France</td>\n",
       "      <td>Female</td>\n",
       "      <td>42</td>\n",
       "      <td>8</td>\n",
       "      <td>159660.80</td>\n",
       "      <td>3</td>\n",
       "      <td>1</td>\n",
       "      <td>0</td>\n",
       "      <td>113931.57</td>\n",
       "      <td>1</td>\n",
       "    </tr>\n",
       "    <tr>\n",
       "      <th>3</th>\n",
       "      <td>4</td>\n",
       "      <td>15701354</td>\n",
       "      <td>Boni</td>\n",
       "      <td>699</td>\n",
       "      <td>France</td>\n",
       "      <td>Female</td>\n",
       "      <td>39</td>\n",
       "      <td>1</td>\n",
       "      <td>0.00</td>\n",
       "      <td>2</td>\n",
       "      <td>0</td>\n",
       "      <td>0</td>\n",
       "      <td>93826.63</td>\n",
       "      <td>0</td>\n",
       "    </tr>\n",
       "    <tr>\n",
       "      <th>4</th>\n",
       "      <td>5</td>\n",
       "      <td>15737888</td>\n",
       "      <td>Mitchell</td>\n",
       "      <td>850</td>\n",
       "      <td>Spain</td>\n",
       "      <td>Female</td>\n",
       "      <td>43</td>\n",
       "      <td>2</td>\n",
       "      <td>125510.82</td>\n",
       "      <td>1</td>\n",
       "      <td>1</td>\n",
       "      <td>1</td>\n",
       "      <td>79084.10</td>\n",
       "      <td>0</td>\n",
       "    </tr>\n",
       "  </tbody>\n",
       "</table>\n",
       "</div>"
      ],
      "text/plain": [
       "   RowNumber  CustomerId   Surname  CreditScore Geography  Gender  Age  \\\n",
       "0          1    15634602  Hargrave          619    France  Female   42   \n",
       "1          2    15647311      Hill          608     Spain  Female   41   \n",
       "2          3    15619304      Onio          502    France  Female   42   \n",
       "3          4    15701354      Boni          699    France  Female   39   \n",
       "4          5    15737888  Mitchell          850     Spain  Female   43   \n",
       "\n",
       "   Tenure    Balance  NumOfProducts  HasCrCard  IsActiveMember  \\\n",
       "0       2       0.00              1          1               1   \n",
       "1       1   83807.86              1          0               1   \n",
       "2       8  159660.80              3          1               0   \n",
       "3       1       0.00              2          0               0   \n",
       "4       2  125510.82              1          1               1   \n",
       "\n",
       "   EstimatedSalary  Exited  \n",
       "0        101348.88       1  \n",
       "1        112542.58       0  \n",
       "2        113931.57       1  \n",
       "3         93826.63       0  \n",
       "4         79084.10       0  "
      ]
     },
     "execution_count": 2,
     "metadata": {},
     "output_type": "execute_result"
    }
   ],
   "source": [
    "dataset=pd.read_csv('Churn_Modelling.csv')\n",
    "dataset.head()"
   ]
  },
  {
   "cell_type": "code",
   "execution_count": 3,
   "metadata": {},
   "outputs": [
    {
     "data": {
      "text/plain": [
       "array([[619, 'France', 'Female', ..., 1, 1, 101348.88],\n",
       "       [608, 'Spain', 'Female', ..., 0, 1, 112542.58],\n",
       "       [502, 'France', 'Female', ..., 1, 0, 113931.57],\n",
       "       ...,\n",
       "       [709, 'France', 'Female', ..., 0, 1, 42085.58],\n",
       "       [772, 'Germany', 'Male', ..., 1, 0, 92888.52],\n",
       "       [792, 'France', 'Female', ..., 1, 0, 38190.78]], dtype=object)"
      ]
     },
     "execution_count": 3,
     "metadata": {},
     "output_type": "execute_result"
    }
   ],
   "source": [
    "X=dataset.iloc[:,3:13].values\n",
    "y=dataset.iloc[:,13].values\n",
    "X"
   ]
  },
  {
   "cell_type": "code",
   "execution_count": 4,
   "metadata": {},
   "outputs": [
    {
     "data": {
      "text/plain": [
       "array([[619, 0, 0, ..., 1, 1, 101348.88],\n",
       "       [608, 2, 0, ..., 0, 1, 112542.58],\n",
       "       [502, 0, 0, ..., 1, 0, 113931.57],\n",
       "       ...,\n",
       "       [709, 0, 0, ..., 0, 1, 42085.58],\n",
       "       [772, 1, 1, ..., 1, 0, 92888.52],\n",
       "       [792, 0, 0, ..., 1, 0, 38190.78]], dtype=object)"
      ]
     },
     "execution_count": 4,
     "metadata": {},
     "output_type": "execute_result"
    }
   ],
   "source": [
    "from sklearn.preprocessing import LabelEncoder, OneHotEncoder\n",
    "labelencoder_X_1= LabelEncoder()\n",
    "X[:, 1] = labelencoder_X_1.fit_transform(X[:, 1])\n",
    "\n",
    "labelencoder_X_2= LabelEncoder()\n",
    "X[:, 2] = labelencoder_X_2.fit_transform(X[:,2])\n",
    "\n",
    "X"
   ]
  },
  {
   "cell_type": "code",
   "execution_count": 5,
   "metadata": {},
   "outputs": [
    {
     "data": {
      "text/plain": [
       "array([[1.0, 0.0, 0.0, ..., 1, 1, 101348.88],\n",
       "       [0.0, 0.0, 1.0, ..., 0, 1, 112542.58],\n",
       "       [1.0, 0.0, 0.0, ..., 1, 0, 113931.57],\n",
       "       ...,\n",
       "       [1.0, 0.0, 0.0, ..., 0, 1, 42085.58],\n",
       "       [0.0, 1.0, 0.0, ..., 1, 0, 92888.52],\n",
       "       [1.0, 0.0, 0.0, ..., 1, 0, 38190.78]], dtype=object)"
      ]
     },
     "execution_count": 5,
     "metadata": {},
     "output_type": "execute_result"
    }
   ],
   "source": [
    "from sklearn.compose import ColumnTransformer\n",
    "ct = ColumnTransformer([('Geography',OneHotEncoder(), [1])], remainder='passthrough')\n",
    "#onehotencoder = OneHotEncoder(categorical_features = [1])\n",
    "X = ct.fit_transform(X)\n",
    "X"
   ]
  },
  {
   "cell_type": "code",
   "execution_count": 6,
   "metadata": {},
   "outputs": [
    {
     "data": {
      "text/plain": [
       "array([[0.0, 0.0, 619, ..., 1, 1, 101348.88],\n",
       "       [0.0, 1.0, 608, ..., 0, 1, 112542.58],\n",
       "       [0.0, 0.0, 502, ..., 1, 0, 113931.57],\n",
       "       ...,\n",
       "       [0.0, 0.0, 709, ..., 0, 1, 42085.58],\n",
       "       [1.0, 0.0, 772, ..., 1, 0, 92888.52],\n",
       "       [0.0, 0.0, 792, ..., 1, 0, 38190.78]], dtype=object)"
      ]
     },
     "execution_count": 6,
     "metadata": {},
     "output_type": "execute_result"
    }
   ],
   "source": [
    "X=X[:,1:]\n",
    "X"
   ]
  },
  {
   "cell_type": "code",
   "execution_count": 7,
   "metadata": {},
   "outputs": [],
   "source": [
    "# Splitting the dataset into the Training set and Test set\n",
    "from sklearn.model_selection import train_test_split\n",
    "X_train, X_test, y_train, y_test = train_test_split(X, y, test_size = 0.2, random_state = 0)"
   ]
  },
  {
   "cell_type": "code",
   "execution_count": 8,
   "metadata": {},
   "outputs": [],
   "source": [
    "# Feature Scaling\n",
    "from sklearn.preprocessing import StandardScaler\n",
    "sc = StandardScaler()\n",
    "X_train = sc.fit_transform(X_train)\n",
    "X_test = sc.transform(X_test)"
   ]
  },
  {
   "cell_type": "code",
   "execution_count": 9,
   "metadata": {},
   "outputs": [],
   "source": [
    "from tensorflow.keras.models import Sequential\n",
    "from tensorflow.keras.layers import Dense,Dropout"
   ]
  },
  {
   "cell_type": "code",
   "execution_count": null,
   "metadata": {},
   "outputs": [],
   "source": []
  },
  {
   "cell_type": "code",
   "execution_count": 10,
   "metadata": {},
   "outputs": [],
   "source": [
    "clf=Sequential()\n",
    "\n",
    "clf.add(Dense(6,kernel_initializer='uniform',activation='relu',input_dim=11))\n",
    "\n",
    "clf.add(Dense(6,kernel_initializer='uniform',activation='relu'))\n",
    "\n",
    "clf.add(Dense(1,kernel_initializer='uniform',activation='sigmoid'))\n",
    "clf.compile(optimizer='adam',loss='binary_crossentropy',metrics=['accuracy'])"
   ]
  },
  {
   "cell_type": "code",
   "execution_count": 12,
   "metadata": {},
   "outputs": [
    {
     "name": "stdout",
     "output_type": "stream",
     "text": [
      "Model: \"sequential\"\n",
      "_________________________________________________________________\n",
      "Layer (type)                 Output Shape              Param #   \n",
      "=================================================================\n",
      "dense (Dense)                (None, 6)                 72        \n",
      "_________________________________________________________________\n",
      "dense_1 (Dense)              (None, 6)                 42        \n",
      "_________________________________________________________________\n",
      "dense_2 (Dense)              (None, 1)                 7         \n",
      "=================================================================\n",
      "Total params: 121\n",
      "Trainable params: 121\n",
      "Non-trainable params: 0\n",
      "_________________________________________________________________\n"
     ]
    }
   ],
   "source": [
    "clf.summary()"
   ]
  },
  {
   "cell_type": "code",
   "execution_count": 11,
   "metadata": {},
   "outputs": [
    {
     "name": "stdout",
     "output_type": "stream",
     "text": [
      "Train on 8000 samples\n",
      "Epoch 1/100\n",
      "8000/8000 [==============================] - 3s 379us/sample - loss: 0.4826 - accuracy: 0.7960\n",
      "Epoch 2/100\n",
      "8000/8000 [==============================] - 2s 289us/sample - loss: 0.4300 - accuracy: 0.7960\n",
      "Epoch 3/100\n",
      "8000/8000 [==============================] - 2s 275us/sample - loss: 0.4253 - accuracy: 0.7960\n",
      "Epoch 4/100\n",
      "8000/8000 [==============================] - 2s 274us/sample - loss: 0.4201 - accuracy: 0.8161\n",
      "Epoch 5/100\n",
      "8000/8000 [==============================] - 2s 277us/sample - loss: 0.4171 - accuracy: 0.8254\n",
      "Epoch 6/100\n",
      "8000/8000 [==============================] - 2s 276us/sample - loss: 0.4145 - accuracy: 0.8284\n",
      "Epoch 7/100\n",
      "8000/8000 [==============================] - 2s 276us/sample - loss: 0.4136 - accuracy: 0.8317\n",
      "Epoch 8/100\n",
      "8000/8000 [==============================] - 2s 276us/sample - loss: 0.4122 - accuracy: 0.8321\n",
      "Epoch 9/100\n",
      "8000/8000 [==============================] - 2s 272us/sample - loss: 0.4112 - accuracy: 0.8338\n",
      "Epoch 10/100\n",
      "8000/8000 [==============================] - 2s 277us/sample - loss: 0.4098 - accuracy: 0.8339\n",
      "Epoch 11/100\n",
      "8000/8000 [==============================] - 2s 275us/sample - loss: 0.4089 - accuracy: 0.8338\n",
      "Epoch 12/100\n",
      "8000/8000 [==============================] - 2s 298us/sample - loss: 0.4083 - accuracy: 0.8340\n",
      "Epoch 13/100\n",
      "8000/8000 [==============================] - 2s 304us/sample - loss: 0.4076 - accuracy: 0.8331\n",
      "Epoch 14/100\n",
      "8000/8000 [==============================] - 2s 275us/sample - loss: 0.4070 - accuracy: 0.8361\n",
      "Epoch 15/100\n",
      "8000/8000 [==============================] - 2s 299us/sample - loss: 0.4062 - accuracy: 0.8335\n",
      "Epoch 16/100\n",
      "8000/8000 [==============================] - 2s 276us/sample - loss: 0.4057 - accuracy: 0.8342\n",
      "Epoch 17/100\n",
      "8000/8000 [==============================] - 2s 279us/sample - loss: 0.4055 - accuracy: 0.8331\n",
      "Epoch 18/100\n",
      "8000/8000 [==============================] - 2s 279us/sample - loss: 0.4057 - accuracy: 0.8341\n",
      "Epoch 19/100\n",
      "8000/8000 [==============================] - 2s 288us/sample - loss: 0.4053 - accuracy: 0.8350\n",
      "Epoch 20/100\n",
      "8000/8000 [==============================] - 2s 281us/sample - loss: 0.4042 - accuracy: 0.8346\n",
      "Epoch 21/100\n",
      "8000/8000 [==============================] - 2s 282us/sample - loss: 0.4046 - accuracy: 0.8346\n",
      "Epoch 22/100\n",
      "8000/8000 [==============================] - 2s 284us/sample - loss: 0.4034 - accuracy: 0.8342\n",
      "Epoch 23/100\n",
      "8000/8000 [==============================] - 2s 285us/sample - loss: 0.4039 - accuracy: 0.8356\n",
      "Epoch 24/100\n",
      "8000/8000 [==============================] - 2s 283us/sample - loss: 0.4032 - accuracy: 0.8357\n",
      "Epoch 25/100\n",
      "8000/8000 [==============================] - 2s 287us/sample - loss: 0.4037 - accuracy: 0.8354\n",
      "Epoch 26/100\n",
      "8000/8000 [==============================] - 2s 284us/sample - loss: 0.4033 - accuracy: 0.8351\n",
      "Epoch 27/100\n",
      "8000/8000 [==============================] - 2s 295us/sample - loss: 0.4030 - accuracy: 0.8340\n",
      "Epoch 28/100\n",
      "8000/8000 [==============================] - 3s 322us/sample - loss: 0.4027 - accuracy: 0.8338\n",
      "Epoch 29/100\n",
      "8000/8000 [==============================] - 2s 308us/sample - loss: 0.4022 - accuracy: 0.8345\n",
      "Epoch 30/100\n",
      "8000/8000 [==============================] - 3s 358us/sample - loss: 0.4027 - accuracy: 0.8350\n",
      "Epoch 31/100\n",
      "8000/8000 [==============================] - 2s 284us/sample - loss: 0.4025 - accuracy: 0.8332\n",
      "Epoch 32/100\n",
      "8000/8000 [==============================] - 3s 318us/sample - loss: 0.4022 - accuracy: 0.8353\n",
      "Epoch 33/100\n",
      "8000/8000 [==============================] - 2s 269us/sample - loss: 0.4020 - accuracy: 0.8353\n",
      "Epoch 34/100\n",
      "8000/8000 [==============================] - 2s 266us/sample - loss: 0.4020 - accuracy: 0.8347\n",
      "Epoch 35/100\n",
      "8000/8000 [==============================] - 2s 266us/sample - loss: 0.4022 - accuracy: 0.8354\n",
      "Epoch 36/100\n",
      "8000/8000 [==============================] - 2s 270us/sample - loss: 0.4018 - accuracy: 0.8342\n",
      "Epoch 37/100\n",
      "8000/8000 [==============================] - 2s 268us/sample - loss: 0.4021 - accuracy: 0.8351\n",
      "Epoch 38/100\n",
      "8000/8000 [==============================] - 2s 265us/sample - loss: 0.4010 - accuracy: 0.8346\n",
      "Epoch 39/100\n",
      "8000/8000 [==============================] - 2s 266us/sample - loss: 0.4014 - accuracy: 0.8353\n",
      "Epoch 40/100\n",
      "8000/8000 [==============================] - 2s 268us/sample - loss: 0.4010 - accuracy: 0.8334\n",
      "Epoch 41/100\n",
      "8000/8000 [==============================] - 2s 302us/sample - loss: 0.4014 - accuracy: 0.8353\n",
      "Epoch 42/100\n",
      "8000/8000 [==============================] - 2s 273us/sample - loss: 0.4018 - accuracy: 0.8356\n",
      "Epoch 43/100\n",
      "8000/8000 [==============================] - 2s 286us/sample - loss: 0.4013 - accuracy: 0.8344\n",
      "Epoch 44/100\n",
      "8000/8000 [==============================] - 2s 267us/sample - loss: 0.4015 - accuracy: 0.8339\n",
      "Epoch 45/100\n",
      "8000/8000 [==============================] - 2s 285us/sample - loss: 0.4010 - accuracy: 0.8349\n",
      "Epoch 46/100\n",
      "8000/8000 [==============================] - 2s 278us/sample - loss: 0.4013 - accuracy: 0.8356\n",
      "Epoch 47/100\n",
      "8000/8000 [==============================] - 3s 322us/sample - loss: 0.4014 - accuracy: 0.8349\n",
      "Epoch 48/100\n",
      "8000/8000 [==============================] - 2s 271us/sample - loss: 0.4006 - accuracy: 0.8345\n",
      "Epoch 49/100\n",
      "8000/8000 [==============================] - 3s 321us/sample - loss: 0.4016 - accuracy: 0.8339\n",
      "Epoch 50/100\n",
      "8000/8000 [==============================] - 2s 269us/sample - loss: 0.4011 - accuracy: 0.8355\n",
      "Epoch 51/100\n",
      "8000/8000 [==============================] - 2s 275us/sample - loss: 0.4013 - accuracy: 0.8347\n",
      "Epoch 52/100\n",
      "8000/8000 [==============================] - 2s 266us/sample - loss: 0.4012 - accuracy: 0.8349\n",
      "Epoch 53/100\n",
      "8000/8000 [==============================] - 2s 268us/sample - loss: 0.4010 - accuracy: 0.8351\n",
      "Epoch 54/100\n",
      "8000/8000 [==============================] - 2s 271us/sample - loss: 0.4014 - accuracy: 0.8336\n",
      "Epoch 55/100\n",
      "8000/8000 [==============================] - 2s 267us/sample - loss: 0.4011 - accuracy: 0.8351\n",
      "Epoch 56/100\n",
      "8000/8000 [==============================] - 2s 268us/sample - loss: 0.4010 - accuracy: 0.8334\n",
      "Epoch 57/100\n",
      "8000/8000 [==============================] - 2s 265us/sample - loss: 0.4010 - accuracy: 0.8353\n",
      "Epoch 58/100\n",
      "8000/8000 [==============================] - 2s 268us/sample - loss: 0.4009 - accuracy: 0.8332\n",
      "Epoch 59/100\n",
      "8000/8000 [==============================] - 2s 282us/sample - loss: 0.4007 - accuracy: 0.8349\n",
      "Epoch 60/100\n",
      "8000/8000 [==============================] - 2s 260us/sample - loss: 0.4010 - accuracy: 0.8349\n",
      "Epoch 61/100\n",
      "8000/8000 [==============================] - 2s 266us/sample - loss: 0.4006 - accuracy: 0.8344\n",
      "Epoch 62/100\n",
      "8000/8000 [==============================] - 2s 263us/sample - loss: 0.4010 - accuracy: 0.8353\n",
      "Epoch 63/100\n",
      "8000/8000 [==============================] - 2s 263us/sample - loss: 0.4005 - accuracy: 0.8349\n",
      "Epoch 64/100\n",
      "8000/8000 [==============================] - 2s 266us/sample - loss: 0.4009 - accuracy: 0.8344\n",
      "Epoch 65/100\n",
      "8000/8000 [==============================] - 2s 265us/sample - loss: 0.4009 - accuracy: 0.8342\n",
      "Epoch 66/100\n",
      "8000/8000 [==============================] - 2s 265us/sample - loss: 0.4005 - accuracy: 0.8349\n",
      "Epoch 67/100\n",
      "8000/8000 [==============================] - 2s 266us/sample - loss: 0.3998 - accuracy: 0.8336\n",
      "Epoch 68/100\n",
      "8000/8000 [==============================] - 2s 265us/sample - loss: 0.4005 - accuracy: 0.8357\n",
      "Epoch 69/100\n",
      "8000/8000 [==============================] - 2s 285us/sample - loss: 0.4005 - accuracy: 0.8344\n",
      "Epoch 70/100\n",
      "8000/8000 [==============================] - 3s 316us/sample - loss: 0.4003 - accuracy: 0.8346\n",
      "Epoch 71/100\n",
      "8000/8000 [==============================] - 2s 291us/sample - loss: 0.4006 - accuracy: 0.8349\n",
      "Epoch 72/100\n",
      "8000/8000 [==============================] - 2s 298us/sample - loss: 0.4007 - accuracy: 0.8345\n",
      "Epoch 73/100\n",
      "8000/8000 [==============================] - 3s 367us/sample - loss: 0.4000 - accuracy: 0.8363\n",
      "Epoch 74/100\n",
      "8000/8000 [==============================] - 2s 281us/sample - loss: 0.4008 - accuracy: 0.8351\n",
      "Epoch 75/100\n",
      "8000/8000 [==============================] - 2s 307us/sample - loss: 0.4001 - accuracy: 0.8353\n",
      "Epoch 76/100\n"
     ]
    },
    {
     "name": "stdout",
     "output_type": "stream",
     "text": [
      "8000/8000 [==============================] - 2s 250us/sample - loss: 0.3998 - accuracy: 0.8361\n",
      "Epoch 77/100\n",
      "8000/8000 [==============================] - 2s 283us/sample - loss: 0.4004 - accuracy: 0.8353\n",
      "Epoch 78/100\n",
      "8000/8000 [==============================] - 2s 274us/sample - loss: 0.4007 - accuracy: 0.8361\n",
      "Epoch 79/100\n",
      "8000/8000 [==============================] - 2s 270us/sample - loss: 0.3998 - accuracy: 0.8346\n",
      "Epoch 80/100\n",
      "8000/8000 [==============================] - 2s 276us/sample - loss: 0.4006 - accuracy: 0.8354\n",
      "Epoch 81/100\n",
      "8000/8000 [==============================] - 2s 268us/sample - loss: 0.4004 - accuracy: 0.8355\n",
      "Epoch 82/100\n",
      "8000/8000 [==============================] - 2s 266us/sample - loss: 0.4003 - accuracy: 0.8357\n",
      "Epoch 83/100\n",
      "8000/8000 [==============================] - 2s 268us/sample - loss: 0.3999 - accuracy: 0.8360\n",
      "Epoch 84/100\n",
      "8000/8000 [==============================] - 2s 267us/sample - loss: 0.4006 - accuracy: 0.8340\n",
      "Epoch 85/100\n",
      "8000/8000 [==============================] - 2s 268us/sample - loss: 0.4000 - accuracy: 0.8357\n",
      "Epoch 86/100\n",
      "8000/8000 [==============================] - 2s 268us/sample - loss: 0.4001 - accuracy: 0.8356\n",
      "Epoch 87/100\n",
      "8000/8000 [==============================] - 2s 274us/sample - loss: 0.4000 - accuracy: 0.8351\n",
      "Epoch 88/100\n",
      "8000/8000 [==============================] - 2s 272us/sample - loss: 0.4003 - accuracy: 0.8357\n",
      "Epoch 89/100\n",
      "8000/8000 [==============================] - 3s 336us/sample - loss: 0.3996 - accuracy: 0.8344\n",
      "Epoch 90/100\n",
      "8000/8000 [==============================] - 3s 318us/sample - loss: 0.4000 - accuracy: 0.8342\n",
      "Epoch 91/100\n",
      "8000/8000 [==============================] - 3s 368us/sample - loss: 0.3999 - accuracy: 0.8363\n",
      "Epoch 92/100\n",
      "8000/8000 [==============================] - 3s 331us/sample - loss: 0.3999 - accuracy: 0.8336\n",
      "Epoch 93/100\n",
      "8000/8000 [==============================] - 2s 293us/sample - loss: 0.4000 - accuracy: 0.8351\n",
      "Epoch 94/100\n",
      "8000/8000 [==============================] - 3s 323us/sample - loss: 0.4006 - accuracy: 0.8356\n",
      "Epoch 95/100\n",
      "8000/8000 [==============================] - 2s 293us/sample - loss: 0.4004 - accuracy: 0.8345\n",
      "Epoch 96/100\n",
      "8000/8000 [==============================] - 2s 311us/sample - loss: 0.4004 - accuracy: 0.8346\n",
      "Epoch 97/100\n",
      "8000/8000 [==============================] - 2s 286us/sample - loss: 0.4001 - accuracy: 0.8344\n",
      "Epoch 98/100\n",
      "8000/8000 [==============================] - 2s 274us/sample - loss: 0.3999 - accuracy: 0.8363\n",
      "Epoch 99/100\n",
      "8000/8000 [==============================] - 2s 268us/sample - loss: 0.3998 - accuracy: 0.8349\n",
      "Epoch 100/100\n",
      "8000/8000 [==============================] - 2s 267us/sample - loss: 0.3997 - accuracy: 0.8346\n"
     ]
    },
    {
     "data": {
      "text/plain": [
       "<tensorflow.python.keras.callbacks.History at 0x2254f4b8808>"
      ]
     },
     "execution_count": 11,
     "metadata": {},
     "output_type": "execute_result"
    }
   ],
   "source": [
    "clf.fit(X_train,y_train,batch_size=10,epochs=100)"
   ]
  },
  {
   "cell_type": "code",
   "execution_count": null,
   "metadata": {},
   "outputs": [],
   "source": [
    "prd=clf.predict(X_test)"
   ]
  },
  {
   "cell_type": "code",
   "execution_count": null,
   "metadata": {},
   "outputs": [],
   "source": [
    "y_pred=(prd>0.50)"
   ]
  },
  {
   "cell_type": "code",
   "execution_count": null,
   "metadata": {},
   "outputs": [],
   "source": [
    "from sklearn.metrics import confusion_matrix\n",
    "cm=confusion_matrix(y_test,y_pred)"
   ]
  },
  {
   "cell_type": "code",
   "execution_count": null,
   "metadata": {},
   "outputs": [],
   "source": [
    "print(cm)"
   ]
  },
  {
   "cell_type": "code",
   "execution_count": null,
   "metadata": {},
   "outputs": [],
   "source": [
    "(1529+199)/2000\n"
   ]
  },
  {
   "cell_type": "code",
   "execution_count": null,
   "metadata": {},
   "outputs": [],
   "source": [
    "new_prediction=clf.predict(sc.transform(np.array([[0.0, 0, 600, 1, 40, 3, 60000, 2, 1, 1, 50000]])))"
   ]
  },
  {
   "cell_type": "code",
   "execution_count": null,
   "metadata": {},
   "outputs": [],
   "source": [
    "new_prd=(new_prediction>0.50)"
   ]
  },
  {
   "cell_type": "code",
   "execution_count": null,
   "metadata": {},
   "outputs": [],
   "source": [
    "print(new_prd)"
   ]
  },
  {
   "cell_type": "code",
   "execution_count": null,
   "metadata": {},
   "outputs": [],
   "source": [
    "from tensorflow.keras.wrappers.scikit_learn import KerasClassifier\n",
    "from sklearn.model_selection import cross_val_score\n",
    "from tensorflow.keras.models import Sequential\n",
    "from tensorflow.keras.layers import Dense\n",
    "def build_classifier():\n",
    "    \n",
    "    clf=Sequential()\n",
    "    clf.add(Dense(6,kernel_initializer='uniform',activation='relu',input_dim=11))\n",
    "    clf.add(Dense(6,kernel_initializer='uniform',activation='relu'))\n",
    "    clf.add(Dense(1,kernel_initializer='uniform',activation='sigmoid'))\n",
    "    clf.compile(optimizer='adam',loss='binary_crossentropy',metrics=['accuracy'])\n",
    "    return clf\n",
    "\n",
    "clf=KerasClassifier(build_fn=build_classifier,batch_size=10,epochs=100)\n",
    "accuracies=cross_val_score(estimator=clf,X=X_train, y=y_train,cv=2 )\n"
   ]
  },
  {
   "cell_type": "code",
   "execution_count": null,
   "metadata": {},
   "outputs": [],
   "source": [
    "accuracies"
   ]
  },
  {
   "cell_type": "code",
   "execution_count": null,
   "metadata": {},
   "outputs": [],
   "source": [
    "mean=accuracies.mean()\n",
    "variance=accuracies.std()\n",
    "print(mean)\n",
    "print(variance)"
   ]
  },
  {
   "cell_type": "code",
   "execution_count": null,
   "metadata": {},
   "outputs": [],
   "source": []
  }
 ],
 "metadata": {
  "kernelspec": {
   "display_name": "Python 3",
   "language": "python",
   "name": "python3"
  },
  "language_info": {
   "codemirror_mode": {
    "name": "ipython",
    "version": 3
   },
   "file_extension": ".py",
   "mimetype": "text/x-python",
   "name": "python",
   "nbconvert_exporter": "python",
   "pygments_lexer": "ipython3",
   "version": "3.7.6"
  }
 },
 "nbformat": 4,
 "nbformat_minor": 2
}
